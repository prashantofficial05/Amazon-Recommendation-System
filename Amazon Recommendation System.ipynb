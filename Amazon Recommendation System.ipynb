{
 "cells": [
  {
   "cell_type": "code",
   "execution_count": 1,
   "id": "8fcd2d71",
   "metadata": {},
   "outputs": [],
   "source": [
    "import numpy as np\n",
    "import pandas as pd"
   ]
  },
  {
   "cell_type": "code",
   "execution_count": 6,
   "id": "6b85fb30",
   "metadata": {},
   "outputs": [
    {
     "data": {
      "text/html": [
       "<div>\n",
       "<style scoped>\n",
       "    .dataframe tbody tr th:only-of-type {\n",
       "        vertical-align: middle;\n",
       "    }\n",
       "\n",
       "    .dataframe tbody tr th {\n",
       "        vertical-align: top;\n",
       "    }\n",
       "\n",
       "    .dataframe thead th {\n",
       "        text-align: right;\n",
       "    }\n",
       "</style>\n",
       "<table border=\"1\" class=\"dataframe\">\n",
       "  <thead>\n",
       "    <tr style=\"text-align: right;\">\n",
       "      <th></th>\n",
       "      <th>AKM1MP6P0OYPR</th>\n",
       "      <th>0132793040</th>\n",
       "      <th>5.0</th>\n",
       "      <th>1365811200</th>\n",
       "    </tr>\n",
       "  </thead>\n",
       "  <tbody>\n",
       "    <tr>\n",
       "      <th>0</th>\n",
       "      <td>A2CX7LUOHB2NDG</td>\n",
       "      <td>0321732944</td>\n",
       "      <td>5.0</td>\n",
       "      <td>1341100800</td>\n",
       "    </tr>\n",
       "    <tr>\n",
       "      <th>1</th>\n",
       "      <td>A2NWSAGRHCP8N5</td>\n",
       "      <td>0439886341</td>\n",
       "      <td>1.0</td>\n",
       "      <td>1367193600</td>\n",
       "    </tr>\n",
       "    <tr>\n",
       "      <th>2</th>\n",
       "      <td>A2WNBOD3WNDNKT</td>\n",
       "      <td>0439886341</td>\n",
       "      <td>3.0</td>\n",
       "      <td>1374451200</td>\n",
       "    </tr>\n",
       "    <tr>\n",
       "      <th>3</th>\n",
       "      <td>A1GI0U4ZRJA8WN</td>\n",
       "      <td>0439886341</td>\n",
       "      <td>1.0</td>\n",
       "      <td>1334707200</td>\n",
       "    </tr>\n",
       "    <tr>\n",
       "      <th>4</th>\n",
       "      <td>A1QGNMC6O1VW39</td>\n",
       "      <td>0511189877</td>\n",
       "      <td>5.0</td>\n",
       "      <td>1397433600</td>\n",
       "    </tr>\n",
       "  </tbody>\n",
       "</table>\n",
       "</div>"
      ],
      "text/plain": [
       "    AKM1MP6P0OYPR  0132793040  5.0  1365811200\n",
       "0  A2CX7LUOHB2NDG  0321732944  5.0  1341100800\n",
       "1  A2NWSAGRHCP8N5  0439886341  1.0  1367193600\n",
       "2  A2WNBOD3WNDNKT  0439886341  3.0  1374451200\n",
       "3  A1GI0U4ZRJA8WN  0439886341  1.0  1334707200\n",
       "4  A1QGNMC6O1VW39  0511189877  5.0  1397433600"
      ]
     },
     "execution_count": 6,
     "metadata": {},
     "output_type": "execute_result"
    }
   ],
   "source": [
    "data = pd.read_csv(r'amazon.csv')\n",
    "data.head()"
   ]
  },
  {
   "cell_type": "code",
   "execution_count": 8,
   "id": "4ca25d5c",
   "metadata": {},
   "outputs": [],
   "source": [
    "data.columns = ['user_id','product_id','ratings','timestamp']"
   ]
  },
  {
   "cell_type": "code",
   "execution_count": 9,
   "id": "f4be738c",
   "metadata": {},
   "outputs": [],
   "source": [
    "df = data[:int(len(data) *.1)]"
   ]
  },
  {
   "cell_type": "code",
   "execution_count": 10,
   "id": "68d99087",
   "metadata": {},
   "outputs": [],
   "source": [
    "counts = df['user_id'].value_counts()\n",
    "data =df[df['user_id'].isin(counts[counts >= 50].index)]\n",
    "data.groupby('product_id')['ratings'].mean().sort_values(ascending=False)\n",
    "final_ratings = data.pivot(index = 'user_id', columns='product_id', values = 'ratings').fillna(0)\n"
   ]
  },
  {
   "cell_type": "code",
   "execution_count": 11,
   "id": "d3cf741f",
   "metadata": {},
   "outputs": [],
   "source": [
    "num_of_ratings = np.count_nonzero(final_ratings)\n",
    "possible_ratings = final_ratings.shape[0]*final_ratings.shape[1]\n",
    "density =(num_of_ratings/possible_ratings)\n",
    "density*=100\n",
    "final_ratings_t = final_ratings.transpose()"
   ]
  },
  {
   "cell_type": "code",
   "execution_count": 13,
   "id": "e20fc036",
   "metadata": {},
   "outputs": [],
   "source": [
    "grouped =data.groupby('product_id').agg({'user_id':'count'}).reset_index()\n",
    "grouped.rename(columns = {'user_id':'score'}, inplace=True)\n",
    "training_data = grouped.sort_values(['score','product_id'], ascending = [0,1])\n",
    "training_data['Rank'] = training_data['score'].rank(ascending=0, method='first')\n",
    "recommendations = training_data.head()"
   ]
  },
  {
   "cell_type": "code",
   "execution_count": 15,
   "id": "1a33ebb6",
   "metadata": {},
   "outputs": [
    {
     "name": "stdout",
     "output_type": "stream",
     "text": [
      "      user_id  product_id  score  Rank\n",
      "113        11  B00004SB92      6   1.0\n",
      "1099       11  B00008OE6I      5   2.0\n",
      "368        11  B00005AW1H      4   3.0\n",
      "612        11  B0000645C9      4   4.0\n",
      "976        11  B00007KDVI      4   5.0\n"
     ]
    },
    {
     "name": "stderr",
     "output_type": "stream",
     "text": [
      "C:\\Users\\Sai\\AppData\\Local\\Temp\\ipykernel_11984\\2478606424.py:3: SettingWithCopyWarning: \n",
      "A value is trying to be set on a copy of a slice from a DataFrame.\n",
      "Try using .loc[row_indexer,col_indexer] = value instead\n",
      "\n",
      "See the caveats in the documentation: https://pandas.pydata.org/pandas-docs/stable/user_guide/indexing.html#returning-a-view-versus-a-copy\n",
      "  recommend_products['user_id']= id\n"
     ]
    }
   ],
   "source": [
    "def recommend(id):\n",
    "    recommend_products = recommendations\n",
    "    recommend_products['user_id']= id\n",
    "    column = recommend_products.columns.tolist()\n",
    "    column = column[-1:] + column[:-1]\n",
    "    recommend_products = recommend_products[column]\n",
    "    return recommend_products\n",
    "\n",
    "print(recommend(11))"
   ]
  },
  {
   "cell_type": "markdown",
   "id": "36f09af8",
   "metadata": {},
   "source": [
    "This is how we can create an Amazon Recommender System using Python. This dataset does not have names of products in it, it only had product id so the score of the product reviews becomes the most important feature for such kinds of datasets"
   ]
  },
  {
   "cell_type": "code",
   "execution_count": null,
   "id": "ee4d07ab",
   "metadata": {},
   "outputs": [],
   "source": []
  }
 ],
 "metadata": {
  "kernelspec": {
   "display_name": "Python 3 (ipykernel)",
   "language": "python",
   "name": "python3"
  },
  "language_info": {
   "codemirror_mode": {
    "name": "ipython",
    "version": 3
   },
   "file_extension": ".py",
   "mimetype": "text/x-python",
   "name": "python",
   "nbconvert_exporter": "python",
   "pygments_lexer": "ipython3",
   "version": "3.9.13"
  }
 },
 "nbformat": 4,
 "nbformat_minor": 5
}
